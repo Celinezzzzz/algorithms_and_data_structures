{
 "cells": [
  {
   "cell_type": "markdown",
   "metadata": {},
   "source": [
    "# Practice Interview\n",
    "\n",
    "## Objective\n",
    "\n",
    "_*The partner assignment aims to provide participants with the opportunity to practice coding in an interview context. You will analyze your partner's Assignment 1. Moreover, code reviews are common practice in a software development team. This assignment should give you a taste of the code review process.*_\n",
    "\n",
    "## Group Size\n",
    "\n",
    "Each group should have 2 people. You will be assigned a partner\n",
    "\n",
    "## Part 1:\n",
    "\n",
    "You and your partner must share each other's Assignment 1 submission."
   ]
  },
  {
   "cell_type": "markdown",
   "metadata": {},
   "source": [
    "\n",
    "## Part 2:\n",
    "\n",
    "Create a Jupyter Notebook, create 6 of the following headings, and complete the following for your partner's assignment 1:\n",
    "\n",
    "-   Paraphrase the problem in your own words.\n"
   ]
  },
  {
   "cell_type": "code",
   "execution_count": null,
   "metadata": {},
   "outputs": [],
   "source": [
    "# Your answer here\n",
    "#The task involves analyzing a list of integers ranging from 0 to n, where n represents the length of the list. The list may include duplicate values, and the goal is to identify any missing numbers within the range [0,n]. If all numbers in the range are accounted for, return −1−1; otherwise, return a list containing the missing numbers."
   ]
  },
  {
   "cell_type": "markdown",
   "metadata": {},
   "source": [
    "\n",
    "-   Create 1 new example that demonstrates you understand the problem. Trace/walkthrough 1 example that your partner made and explain it."
   ]
  },
  {
   "cell_type": "code",
   "execution_count": null,
   "metadata": {},
   "outputs": [],
   "source": [
    "# Your answer here\n",
    "\n",
    "'''\n",
    "New Example:\n",
    "Input: lst = [2, 4, 5, 6, 0]\n",
    "Output:[1, 3]\n",
    "\n",
    "Walkthrough of Partner's Example:\n",
    "Input: lst = [1, 3, 5, 6, 7]\n",
    "Output:[0, 2, 4]\n",
    "\n",
    "Explanation:\n",
    "Determine the range of numbers: Since the length of the list is 5, the range is [0, 7].\n",
    "Identify missing numbers by comparing the input list with the full range [0, 7].\n",
    "The full range is [0, 1, 2, 3, 4, 5, 6, 7].\n",
    "The numbers in the list are [1, 3, 5, 6, 7].\n",
    "Missing numbers are [0, 2, 4].\n",
    "'''"
   ]
  },
  {
   "cell_type": "markdown",
   "metadata": {},
   "source": [
    "\n",
    "-   Copy the solution your partner wrote. \n"
   ]
  },
  {
   "cell_type": "code",
   "execution_count": null,
   "metadata": {},
   "outputs": [],
   "source": [
    "# Your answer here\n",
    "'''\n",
    "from typing import List\n",
    "\n",
    "def missing_num(nums: List[int]) -> List[int]:\n",
    "    # Calculate the expected range based on the max number in the list\n",
    "    n = max(nums) if nums else 0\n",
    "    \n",
    "    # Create a set from the input list for fast lookup\n",
    "    nums_set = set(nums)\n",
    "    \n",
    "    # Find all missing numbers by checking what is not in nums_set\n",
    "    missing_numbers = [i for i in range(n + 1) if i not in nums_set]\n",
    "    \n",
    "    # Return missing numbers or -1 if none are missing\n",
    "    return missing_numbers if missing_numbers else -1\n",
    "\n",
    "'''"
   ]
  },
  {
   "cell_type": "markdown",
   "metadata": {},
   "source": [
    "\n",
    "-   Explain why their solution works in your own words.\n"
   ]
  },
  {
   "cell_type": "code",
   "execution_count": null,
   "metadata": {},
   "outputs": [],
   "source": [
    "# Your answer here\n",
    "\n",
    "#The solution works by calculating the range [0, n] based on the maximum number in the list. It converts the list to a set for efficient membership checks and iterates through the range to identify numbers missing from the set. If missing numbers are found, they are returned; otherwise, it returns -1. It efficiently handles edge cases like empty lists and no missing numbers."
   ]
  },
  {
   "cell_type": "markdown",
   "metadata": {},
   "source": [
    "\n",
    "-   Explain the problem’s time and space complexity in your own words.\n"
   ]
  },
  {
   "cell_type": "code",
   "execution_count": null,
   "metadata": {},
   "outputs": [],
   "source": [
    "# Your answer here\n",
    "\n",
    "'''\n",
    "Time Complexity: O(n), where n is the maximum value in the list. Finding the maximum, creating a set, and iterating over the range all take O(n) time.\n",
    "\n",
    "Space Complexity: O(n), where n is the number of elements in the list. The set for fast lookup and the list of missing numbers each require up to O(n) space.\n",
    "'''"
   ]
  },
  {
   "cell_type": "markdown",
   "metadata": {},
   "source": [
    "\n",
    "-   Critique your partner's solution, including explanation, and if there is anything that should be adjusted.\n"
   ]
  },
  {
   "cell_type": "code",
   "execution_count": null,
   "metadata": {},
   "outputs": [],
   "source": [
    "# Your answer here\n",
    "'''\n",
    "Strengths: Efficient and clear, uses sets for fast lookups, handles edge cases.\n",
    "Issues: max(nums) may miscalculate the range; len(nums) is better. Explicit empty list handling is redundant. Returning -1 is unconventional; [] is preferred.\n",
    "Fixes: Use len(nums) for range, remove empty list check, return [] for no missing numbers.\n",
    "'''\n"
   ]
  },
  {
   "cell_type": "markdown",
   "metadata": {},
   "source": [
    "\n",
    "## Part 3:\n",
    "\n",
    "Please write a 200 word reflection documenting your process from assignment 1, and your presentation and review experience with your partner at the bottom of the Jupyter Notebook under a new heading \"Reflection.\" Again, export this Notebook as pdf.\n"
   ]
  },
  {
   "cell_type": "markdown",
   "metadata": {},
   "source": [
    "### Reflection"
   ]
  },
  {
   "cell_type": "code",
   "execution_count": null,
   "metadata": {},
   "outputs": [],
   "source": [
    "# Your answer here\n",
    "\n",
    "'''\n",
    "Working on Problem 1 was an interesting exercise in understanding tree traversal and managing node data efficiently. Initially, I approached the problem by breaking it into two core tasks: performing a breadth-first search (BFS) to traverse the binary tree and using a dictionary to track visited node values. I wanted my solution to handle edge cases gracefully, like an empty tree or a tree without duplicate values, while ensuring BFS covered all nodes systematically.\n",
    "\n",
    "While implementing the solution, I leaned on Python's deque for efficient queue operations. The most challenging part was balancing clarity and efficiency—ensuring the logic was straightforward while keeping the time complexity at O(n), where n is the number of nodes. Testing helped confirm that the code worked for trees with different structures, from a single node to unbalanced, large trees.\n",
    "\n",
    "When I reviewed my partner’s solution to Problem 3, I noticed they took a similar thoughtful approach to their problem. Their solution was clean and effective, but I suggested improvements in how ranges were calculated. Reviewing their code gave me a chance to see a different style of problem-solving, which inspired me to think about improvements in my own work.\n",
    "\n",
    "This assignment reinforced how valuable collaboration and review are—not just for spotting issues but for growing as a programmer. The back-and-forth helped me refine my approach and build confidence in presenting and critiquing technical solutions.\n",
    "'''"
   ]
  },
  {
   "cell_type": "markdown",
   "metadata": {},
   "source": [
    "\n",
    "## Evaluation Criteria\n",
    "\n",
    "We are looking for the similar points as Assignment 1\n",
    "\n",
    "-   Problem is accurately stated\n",
    "\n",
    "-   New example is correct and easily understandable\n",
    "\n",
    "-   Correctness, time, and space complexity of the coding solution\n",
    "\n",
    "-   Clarity in explaining why the solution works, its time and space complexity\n",
    "\n",
    "-   Quality of critique of your partner's assignment, if necessary\n"
   ]
  },
  {
   "cell_type": "markdown",
   "metadata": {},
   "source": [
    "## Submission Information\n",
    "\n",
    "🚨 **Please review our [Assignment Submission Guide](https://github.com/UofT-DSI/onboarding/blob/main/onboarding_documents/submissions.md)** 🚨 for detailed instructions on how to format, branch, and submit your work. Following these guidelines is crucial for your submissions to be evaluated correctly.\n",
    "\n",
    "### Submission Parameters:\n",
    "* Submission Due Date: `HH:MM AM/PM - DD/MM/YYYY`\n",
    "* The branch name for your repo should be: `assignment-2`\n",
    "* What to submit for this assignment:\n",
    "    * This Jupyter Notebook (assignment_2.ipynb) should be populated and should be the only change in your pull request.\n",
    "* What the pull request link should look like for this assignment: `https://github.com/<your_github_username>/algorithms_and_data_structures/pull/<pr_id>`\n",
    "    * Open a private window in your browser. Copy and paste the link to your pull request into the address bar. Make sure you can see your pull request properly. This helps the technical facilitator and learning support staff review your submission easily.\n",
    "\n",
    "Checklist:\n",
    "- [ ] Created a branch with the correct naming convention.\n",
    "- [ ] Ensured that the repository is public.\n",
    "- [ ] Reviewed the PR description guidelines and adhered to them.\n",
    "- [ ] Verify that the link is accessible in a private browser window.\n",
    "\n",
    "If you encounter any difficulties or have questions, please don't hesitate to reach out to our team via our Slack at `#cohort-3-help`. Our Technical Facilitators and Learning Support staff are here to help you navigate any challenges.\n"
   ]
  }
 ],
 "metadata": {
  "language_info": {
   "name": "python"
  }
 },
 "nbformat": 4,
 "nbformat_minor": 2
}
